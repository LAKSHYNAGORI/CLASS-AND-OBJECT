{
  "nbformat": 4,
  "nbformat_minor": 0,
  "metadata": {
    "colab": {
      "provenance": []
    },
    "kernelspec": {
      "name": "python3",
      "display_name": "Python 3"
    },
    "language_info": {
      "name": "python"
    }
  },
  "cells": [
    {
      "cell_type": "code",
      "execution_count": 3,
      "metadata": {
        "colab": {
          "base_uri": "https://localhost:8080/"
        },
        "id": "qKWBVV6frAdx",
        "outputId": "f90c7b4c-e865-4981-eb6f-bea733496680"
      },
      "outputs": [
        {
          "output_type": "stream",
          "name": "stdout",
          "text": [
            "ID: 101\n",
            "ID: 100\n"
          ]
        }
      ],
      "source": [
        "class perfectplanBstudent:\n",
        "  def __init__(self):\n",
        "    self.__id = 100\n",
        "  def display(self):\n",
        "    print(\"ID:\",self.__id)\n",
        "  def setID(self,id):\n",
        "    self.__id = id\n",
        "s1 = perfectplanBstudent()\n",
        "s2 = perfectplanBstudent()\n",
        "s1.setID(101)\n",
        "s1.display()\n",
        "s2.display()"
      ]
    }
  ]
}