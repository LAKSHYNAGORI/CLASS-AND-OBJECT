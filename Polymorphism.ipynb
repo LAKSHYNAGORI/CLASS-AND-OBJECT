{
  "nbformat": 4,
  "nbformat_minor": 0,
  "metadata": {
    "colab": {
      "provenance": []
    },
    "kernelspec": {
      "name": "python3",
      "display_name": "Python 3"
    },
    "language_info": {
      "name": "python"
    }
  },
  "cells": [
    {
      "cell_type": "code",
      "execution_count": 3,
      "metadata": {
        "colab": {
          "base_uri": "https://localhost:8080/"
        },
        "id": "Z6K7JtJkUd44",
        "outputId": "bd3a2ac2-d39b-48ec-becb-3c74a385c667"
      },
      "outputs": [
        {
          "output_type": "stream",
          "name": "stdout",
          "text": [
            "Dog is barking.......\n",
            "cat is speeking ......\n"
          ]
        }
      ],
      "source": [
        "# that is what is called  polymorphism it is achived by override the method\n",
        "class Animal:\n",
        "  def speak(self):\n",
        "    print(\"Animal is speeking....\")\n",
        "class Dog(Animal):\n",
        "  print(\"Dog is barking.......\")\n",
        "  # animal class inheriteces the properties of Animal classs\n",
        "class Cat(Animal):\n",
        "  def speak(self):\n",
        "    print(\"cat is speeking ......\")\n",
        "\n",
        "d = Cat()\n",
        "d.speak()"
      ]
    },
    {
      "cell_type": "code",
      "source": [
        "class RBI:\n",
        "  def getRoi(self):\n",
        "    return 10\n",
        "class SBI(RBI):\n",
        "  def getRoi(self):\n",
        "    return 7\n",
        "class ICIC(RBI):\n",
        "  def getRoi(self):\n",
        "    return 8\n",
        "d = RBI()\n",
        "d.getRoi()"
      ],
      "metadata": {
        "colab": {
          "base_uri": "https://localhost:8080/"
        },
        "id": "aPwvp2WlW4Az",
        "outputId": "6bef4a51-6a32-4854-d7cf-d4869df660b1"
      },
      "execution_count": 9,
      "outputs": [
        {
          "output_type": "execute_result",
          "data": {
            "text/plain": [
              "10"
            ]
          },
          "metadata": {},
          "execution_count": 9
        }
      ]
    }
  ]
}