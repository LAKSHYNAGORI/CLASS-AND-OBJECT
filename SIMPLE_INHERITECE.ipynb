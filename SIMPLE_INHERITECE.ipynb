{
  "nbformat": 4,
  "nbformat_minor": 0,
  "metadata": {
    "colab": {
      "provenance": []
    },
    "kernelspec": {
      "name": "python3",
      "display_name": "Python 3"
    },
    "language_info": {
      "name": "python"
    }
  },
  "cells": [
    {
      "cell_type": "code",
      "execution_count": null,
      "metadata": {
        "id": "al9xiyPdRwD7"
      },
      "outputs": [],
      "source": [
        "# simple inheritance\n",
        "# iheritance \n",
        "class Animal:\n",
        "  def speak(self):\n",
        "    print(\"Animal is speaking\")\n",
        "class Dog(Animal):\n",
        "  def bark(sekf):\n",
        "    print(\"Dog is barking\")\n",
        "\n",
        "d = Dog()\n",
        "d.speak()\n",
        "d.bark()\n",
        "# dog inheries  the properties of both Animal and dog   "
      ]
    }
  ]
}